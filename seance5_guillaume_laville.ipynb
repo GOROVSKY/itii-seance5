{
  "nbformat": 4,
  "nbformat_minor": 0,
  "metadata": {
    "kernelspec": {
      "display_name": "Python 3",
      "language": "python",
      "name": "python3"
    },
    "language_info": {
      "codemirror_mode": {
        "name": "ipython",
        "version": 3
      },
      "file_extension": ".py",
      "mimetype": "text/x-python",
      "name": "python",
      "nbconvert_exporter": "python",
      "pygments_lexer": "ipython3",
      "version": "3.7.6"
    },
    "colab": {
      "name": "seance5.ipynb",
      "provenance": [],
      "collapsed_sections": []
    }
  },
  "cells": [
    {
      "cell_type": "markdown",
      "metadata": {
        "id": "kBsia-H9BUhB"
      },
      "source": [
        "# Guillaume LAVILLE - TP 5 Python\n",
        "\n",
        "\n"
      ]
    },
    {
      "cell_type": "markdown",
      "metadata": {
        "id": "NpgzsTv8_E90"
      },
      "source": [
        "Ex1:\n",
        "    \n",
        "1. Ecrire une fonction qui prend en entrée une fonction f et des réels a et h et donne en sortie le taux de variation (ou d'accroissement) de la fonction f entre le point d'abscisse a+h et a.\n",
        "2. Tester avec f(x)=3x^3+1x^2-5"
      ]
    },
    {
      "cell_type": "code",
      "metadata": {
        "id": "rXAS7yYw_E93",
        "outputId": "7b453b1a-f1ea-4d7c-96cb-adc054cd0761",
        "colab": {
          "base_uri": "https://localhost:8080/"
        }
      },
      "source": [
        "def tauxVariation(fct, a, h):\n",
        "    return (fct(a + h) - fct(a)) / h\n",
        "\n",
        "def fct(x):\n",
        "    return 3 * pow(x, 3) + 1 * pow(x, 2) - 5\n",
        "\n",
        "tauxVariation(fct, 1, 1)"
      ],
      "execution_count": 15,
      "outputs": [
        {
          "output_type": "execute_result",
          "data": {
            "text/plain": [
              "24.0"
            ]
          },
          "metadata": {
            "tags": []
          },
          "execution_count": 15
        }
      ]
    },
    {
      "cell_type": "markdown",
      "metadata": {
        "id": "6JPM5yjt_E-B"
      },
      "source": [
        "Ex2:\n",
        "1. Ecrire une fonction qui calcule la liste des coefficients directeurs pour une fonction f définit sur I=[a;b] avec un pas \"p\"\n",
        "2. Tester avec f(x)=(1+x)/(x-4) définit sur I=[0,1] avec un pas de 0.01"
      ]
    },
    {
      "cell_type": "code",
      "metadata": {
        "id": "RaUfqlAL_E-G"
      },
      "source": [
        "import numpy\n",
        "\n",
        "def coefficientsDirecteurs(fct, a, b, p, h):\n",
        "  # J'ai volontairement rajouté le paramètre h en entrée\n",
        "  lesCoeff = []\n",
        "  i = a\n",
        "  while(i < b):\n",
        "    coeff = tauxVariation(fct, i, h)\n",
        "    lesCoeff.append(coeff)\n",
        "    i += p\n",
        "  return lesCoeff\n",
        "\n",
        "def fct(x):\n",
        "  return (1 + x) / (x - 4)\n",
        "\n",
        "coefficientsDirecteurs(fct, 0, 1, 0.01, 0.001)\n"
      ],
      "execution_count": null,
      "outputs": []
    },
    {
      "cell_type": "markdown",
      "metadata": {
        "id": "e7FAqh9A_E-N"
      },
      "source": [
        "Ex3:\n",
        "on considère une suite U définie par Un+1=Un+n+1 et de premier terme U0. Ecrire une fonction qui prend en entrée les valeurs de n et U0 et affiche la valeur de Un.\n",
        "1. De facon iterative\n",
        "2. Par recurence"
      ]
    },
    {
      "cell_type": "code",
      "metadata": {
        "id": "jdpuhO0I_E-P",
        "outputId": "820abf25-6e43-4259-9fce-dc34522847c5",
        "colab": {
          "base_uri": "https://localhost:8080/"
        }
      },
      "source": [
        "def suiteIterative(n, U0):\n",
        "  for i in range(n + 1):\n",
        "    if (i == 0):\n",
        "      Un = U0\n",
        "      print(\"U0 = \" + str(Un))\n",
        "    else:\n",
        "      Un1 = Un + i + 1\n",
        "      Un = Un1\n",
        "      print(\"U\" + str(i) + \" = \" + str(Un1))\n",
        "\n",
        "def suiteRecurence(n, U0):\n",
        "  if n == 0:\n",
        "    return U0\n",
        "  else:\n",
        "    return suiteRecurence(n-1, U0) + n + 1\n",
        "  \n",
        "print(\"Itérative :\")\n",
        "suiteIterative(2, 1)\n",
        "print(\"Récurence :\")\n",
        "print(\"U2 = \" + str(suiteRecurence(2, 1)))"
      ],
      "execution_count": 62,
      "outputs": [
        {
          "output_type": "stream",
          "text": [
            "Itérative :\n",
            "U0 = 1\n",
            "U1 = 3\n",
            "U2 = 6\n",
            "Récurence :\n",
            "U2 = 6\n"
          ],
          "name": "stdout"
        }
      ]
    },
    {
      "cell_type": "markdown",
      "metadata": {
        "id": "V6NBlIcx_E-X"
      },
      "source": [
        "Ex4:\n",
        "On pose Tn=n^2−(n−1)^2 ainsi que Sn=T1+T2+T3+...+Tn.\n",
        "1. Etant donné n, afficher la valeur de Sn."
      ]
    },
    {
      "cell_type": "code",
      "metadata": {
        "id": "39R5bELR_E-Y",
        "outputId": "b300ceea-03b6-4e75-f43c-6c6ad69f8962",
        "colab": {
          "base_uri": "https://localhost:8080/"
        }
      },
      "source": [
        "def Tn(n):\n",
        "  return n ** 2 - (n - 1) ** 2\n",
        "\n",
        "def Sn(n):\n",
        "  if n == 0:\n",
        "    return 0\n",
        "  else:\n",
        "    return Sn(n - 1) + Tn(n)\n",
        "\n",
        "Sn(2)"
      ],
      "execution_count": 67,
      "outputs": [
        {
          "output_type": "execute_result",
          "data": {
            "text/plain": [
              "4"
            ]
          },
          "metadata": {
            "tags": []
          },
          "execution_count": 67
        }
      ]
    },
    {
      "cell_type": "markdown",
      "metadata": {
        "id": "STUIHV0g_E-f"
      },
      "source": [
        "Ex5:\n",
        "Soit la suite définie par Un+1=0.5.Un et de premier terme U0. Plus la valeur de n augmente, plus les valeurs de Un se rapprochent de 0.\n",
        "\n",
        "Ecrire une fonction qui permet de déterminer pour un réel positif e donné, quel est le plus petit entier n tel que la valeur de Un soit inférieure à e.\n"
      ]
    },
    {
      "cell_type": "code",
      "metadata": {
        "id": "HTq8TMW3_E-g",
        "outputId": "46b7f6a3-3296-4936-984c-f48a2f0bfc57",
        "colab": {
          "base_uri": "https://localhost:8080/"
        }
      },
      "source": [
        "def Un(n, U0):\n",
        "  if n == 0:\n",
        "    return U0\n",
        "  else:\n",
        "    return Un(n-1, U0) / 2\n",
        "\n",
        "def suiteInferieureNombre(e, U0):\n",
        "  n = 0\n",
        "  while Un(n, U0) >= e:\n",
        "    n += 1\n",
        "  return n\n",
        "\n",
        "suiteInferieureNombre(0.01, 1)\n"
      ],
      "execution_count": 78,
      "outputs": [
        {
          "output_type": "execute_result",
          "data": {
            "text/plain": [
              "7"
            ]
          },
          "metadata": {
            "tags": []
          },
          "execution_count": 78
        }
      ]
    },
    {
      "cell_type": "markdown",
      "metadata": {
        "id": "ZBCJc_Ow_E-o"
      },
      "source": [
        "Ex6: Constante K de Catalan : https://fr.wikipedia.org/wiki/Constante_de_Catalan\n",
        "Ecrire une fonction qui permet de retourner une valeur approchée de la constante K et en s’arrêtant dès que la valeur absolue de la différence entre deux somme successives devienne inférieure ou égale à une erreur epsilon donnée en paramètre.\n",
        "\n"
      ]
    },
    {
      "cell_type": "code",
      "metadata": {
        "id": "mf-JZ1tK_E-p",
        "outputId": "5268cdc0-63a1-49ea-8ada-1d04df5968a9",
        "colab": {
          "base_uri": "https://localhost:8080/"
        }
      },
      "source": [
        "def constanteK(epsilon):\n",
        "  sum1 = 1\n",
        "  sum2 = sum1 - 1 / (3 ** 2)\n",
        "  valeur = 5\n",
        "  signe = 1\n",
        "  while abs(sum1 - sum2) > epsilon:\n",
        "    sum1 = sum2\n",
        "    sum2 = sum1 + signe * (1 / (valeur ** 2))\n",
        "    valeur += 2\n",
        "    signe *= -1\n",
        "  return sum2\n",
        "\n",
        "constanteK(0.00001)\n",
        "\n"
      ],
      "execution_count": 90,
      "outputs": [
        {
          "output_type": "execute_result",
          "data": {
            "text/plain": [
              "0.9159705384552139"
            ]
          },
          "metadata": {
            "tags": []
          },
          "execution_count": 90
        }
      ]
    },
    {
      "cell_type": "markdown",
      "metadata": {
        "id": "u6crYXEQ_E-u"
      },
      "source": [
        "Ex 7:\n",
        "Ecrivez une fonction permettant de calculer la limite à epsilon près de la suite définie par la relation de récurrence :\n",
        "\n",
        "U0 =2\n",
        "Un+1= Un + 2/Un  , n>0.\n",
        "\n",
        "On arrête d’itérer quand l’intervalle entre 2 termes consécutifs devient strictement inférieur à epsilon."
      ]
    },
    {
      "cell_type": "code",
      "metadata": {
        "id": "MPQ9mZ2rXAO8",
        "outputId": "115adfce-67a1-4305-9de8-2c8dc8bc184a",
        "colab": {
          "base_uri": "https://localhost:8080/"
        }
      },
      "source": [
        "def limiteEpsilon(epsilon):\n",
        "    U0 = 2\n",
        "    Un = U0\n",
        "    Un1 = U0 + 2 / U0\n",
        "    while abs(Un1 - Un) > epsilon:\n",
        "        Un = Un1\n",
        "        Un1 = Un + 2/Un\n",
        "    return Un\n",
        " \n",
        "limiteEpsilon(0.05)"
      ],
      "execution_count": 103,
      "outputs": [
        {
          "output_type": "execute_result",
          "data": {
            "text/plain": [
              "40.02878656075909"
            ]
          },
          "metadata": {
            "tags": []
          },
          "execution_count": 103
        }
      ]
    }
  ]
}